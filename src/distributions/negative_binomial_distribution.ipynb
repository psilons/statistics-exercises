{
 "cells": [
  {
   "cell_type": "markdown",
   "metadata": {
    "collapsed": true,
    "pycharm": {
     "name": "#%% md\n"
    }
   },
   "source": [
    "# Negative Binomial Distribution\n",
    "\n",
    "\n",
    "We can define flipping a heads on a coin as a failure and flipping tails as a success, and ask how many tails are flipped before we get a heads.\n",
    "\n",
    "[Wiki](https://en.wikipedia.org/wiki/Negative_binomial_distribution) outlines the following properties.\n",
    "\n",
    "[Stat Trek](https://stattrek.com/probability-distributions/negative-binomial.aspx) explains the distribution.\n",
    "\n",
    "The probability mass function(PMF) is\n",
    "\n",
    "$\\begin{align*}\\quad\\quad\n",
    "f_{r, p}(n) = \\binom{n - 1}{r - 1}(1 - p)^{n - r}p^r\n",
    "\\end{align*}$\n",
    "\n",
    "where the probability $p \\in [0, 1]$ and $r > 0$.\n",
    "\n",
    "The cumulative distribution function is\n",
    "\n",
    "$\\begin{align*}\\quad\\quad\n",
    "F(x) = \\sum^x_{i = 0}{n \\choose i} p^i q^{n-i}\n",
    "\\end{align*}$\n",
    "\n",
    "## Properties\n",
    "- Mean is $np$\n",
    "- Variance is $npq$\n",
    "- Standard Deviation is $\\sqrt{np(1-p)}$\n",
    "- Skewness is $\\frac{q - p}{\\sqrt{npq}}$\n",
    "- Kurtosis is $3 - \\frac{6}{n} + \\frac{1}{npq}$\n",
    "\n",
    "Moments:\n",
    "- 1st moment is $np$\n",
    "- 2nd moment is $n^{(2)}p^2 + np$\n",
    "- 3rd moment is $n^{(3)}p^3 + 3n^{(2)}p^2 + np$\n",
    "- 4th moment is $n^{(4)} + 6n^{(3)}p^3 + 7n^{(2)}p^2 + np$"
   ]
  }
 ],
 "metadata": {
  "kernelspec": {
   "display_name": "Python 3",
   "language": "python",
   "name": "python3"
  },
  "language_info": {
   "codemirror_mode": {
    "name": "ipython",
    "version": 2
   },
   "file_extension": ".py",
   "mimetype": "text/x-python",
   "name": "python",
   "nbconvert_exporter": "python",
   "pygments_lexer": "ipython2",
   "version": "2.7.6"
  }
 },
 "nbformat": 4,
 "nbformat_minor": 0
}