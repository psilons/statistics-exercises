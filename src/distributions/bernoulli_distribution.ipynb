{
 "cells": [
  {
   "cell_type": "markdown",
   "metadata": {
    "collapsed": true,
    "pycharm": {
     "name": "#%% md\n"
    }
   },
   "source": [
    "# Bernoulli Distribution\n",
    "\n",
    "[Wiki](https://en.wikipedia.org/wiki/Bernoulli_distribution) and [Wolfram Alpha](https://mathworld.wolfram.com/BernoulliDistribution.html) outlines the following properties.\n",
    "\n",
    "The probability dense function(PDF) is\n",
    "\n",
    "$\\begin{align*}\\quad\\quad\n",
    "f(x) = px + (1-p)(1-x) = \\left\\{\n",
    "    \\begin{array}{ll}\n",
    "        p, & \\text{if } x = 1\\\\\n",
    "        q = 1 - p,      &  \\text{if } x = 0\\\\\n",
    "    \\end{array}\n",
    "\\right.\n",
    "\\end{align*}$\n",
    "\n",
    "## Properties\n",
    "- Mean is $p$\n",
    "- Variance is $pq$\n",
    "- Skewness is $\\frac{q-p}{\\sqrt{pq}}$\n",
    "- Kurtosis is $\\frac{1-6pq}{pq}$\n",
    "\n",
    "All moments are $p$"
   ]
  },
  {
   "cell_type": "code",
   "source": [
    "import sympy\n",
    "%reload_ext autoreload\n",
    "%autoreload 2\n",
    "\n",
    "from scipy import stats\n",
    "import numpy as np\n",
    "import matplotlib.pyplot as plt\n",
    "\n",
    "plt.rcParams['text.usetex'] = True\n",
    "\n",
    "plt.figure(figsize=(7.5,7.5))\n",
    "plt.xlabel('Values of Random Variable X (0, 1)', fontsize='14')\n",
    "plt.ylabel('Probability', fontsize='14')\n",
    "\n",
    "plt.xlim(-1, 2)\n",
    "x = [0, 1]\n",
    "\n",
    "mean, std = 0, 0.25\n",
    "dist = stats.bernoulli(p=0.7)\n",
    "plt.title(f'Bernoulli Distribution (p=0.7)', fontsize='16')\n",
    "\n",
    "plt.bar(x, dist.pmf(x), width=0.3)\n",
    "plt.show()"
   ],
   "metadata": {
    "collapsed": false,
    "pycharm": {
     "name": "#%%\n"
    }
   },
   "execution_count": 3,
   "outputs": [
    {
     "data": {
      "text/plain": "<Figure size 540x540 with 1 Axes>",
      "image/png": "[encoded data removed]"
     },
     "metadata": {
      "needs_background": "light"
     },
     "output_type": "display_data"
    }
   ]
  },
  {
   "cell_type": "code",
   "execution_count": 9,
   "outputs": [
    {
     "data": {
      "text/plain": "p",
      "text/latex": "$\\displaystyle p$"
     },
     "execution_count": 9,
     "metadata": {},
     "output_type": "execute_result"
    }
   ],
   "source": [
    "import sympy\n",
    "from sympy import *\n",
    "x, p = symbols('x, p', real=True)\n",
    "# print(a.assumptions0)\n",
    "pdf = p * x + (1 - p) * (1 - x)\n",
    "# all probabilities should sum up to 1\n",
    "# https://stackoverflow.com/questions/40452918/integrating-log-normal-pdf-in-sympy\n",
    "sympy.Sum(pdf, (x, 0, 1)).doit()\n",
    "sympy.Sum(x * pdf, (x, 0, 1)).doit()\n",
    "# integrate(x * pdf, (x, -oo, oo))  first moment"
   ],
   "metadata": {
    "collapsed": false,
    "pycharm": {
     "name": "#%%\n"
    }
   }
  }
 ],
 "metadata": {
  "kernelspec": {
   "display_name": "Python 3",
   "language": "python",
   "name": "python3"
  },
  "language_info": {
   "codemirror_mode": {
    "name": "ipython",
    "version": 2
   },
   "file_extension": ".py",
   "mimetype": "text/x-python",
   "name": "python",
   "nbconvert_exporter": "python",
   "pygments_lexer": "ipython2",
   "version": "2.7.6"
  }
 },
 "nbformat": 4,
 "nbformat_minor": 0
}